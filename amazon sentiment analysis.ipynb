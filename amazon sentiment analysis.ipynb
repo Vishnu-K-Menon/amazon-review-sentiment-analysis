{
 "cells": [
  {
   "cell_type": "code",
   "execution_count": 1,
   "id": "6c5ed179",
   "metadata": {
    "_cell_guid": "b1076dfc-b9ad-4769-8c92-a6c4dae69d19",
    "_uuid": "8f2839f25d086af736a60e9eeb907d3b93b6e0e5",
    "execution": {
     "iopub.execute_input": "2022-07-20T16:01:36.458361Z",
     "iopub.status.busy": "2022-07-20T16:01:36.457153Z",
     "iopub.status.idle": "2022-07-20T16:01:36.480808Z",
     "shell.execute_reply": "2022-07-20T16:01:36.479627Z"
    },
    "papermill": {
     "duration": 0.037356,
     "end_time": "2022-07-20T16:01:36.484567",
     "exception": false,
     "start_time": "2022-07-20T16:01:36.447211",
     "status": "completed"
    },
    "tags": []
   },
   "outputs": [
    {
     "name": "stdout",
     "output_type": "stream",
     "text": [
      "/kaggle/input/amazon-reviews/amazon_review_polarity_csv.tgz\n",
      "/kaggle/input/amazon-reviews/train.csv\n",
      "/kaggle/input/amazon-reviews/test.csv\n",
      "/kaggle/input/glove6b100dtxt/glove.6B.100d.txt\n"
     ]
    }
   ],
   "source": [
    "# This Python 3 environment comes with many helpful analytics libraries installed\n",
    "# It is defined by the kaggle/python Docker image: https://github.com/kaggle/docker-python\n",
    "# For example, here's several helpful packages to load\n",
    "\n",
    "import numpy as np # linear algebra\n",
    "import pandas as pd # data processing, CSV file I/O (e.g. pd.read_csv)\n",
    "\n",
    "# Input data files are available in the read-only \"../input/\" directory\n",
    "# For example, running this (by clicking run or pressing Shift+Enter) will list all files under the input directory\n",
    "\n",
    "import os\n",
    "for dirname, _, filenames in os.walk('/kaggle/input'):\n",
    "    for filename in filenames:\n",
    "        print(os.path.join(dirname, filename))\n",
    "\n",
    "# You can write up to 20GB to the current directory (/kaggle/working/) that gets preserved as output when you create a version using \"Save & Run All\" \n",
    "# You can also write temporary files to /kaggle/temp/, but they won't be saved outside of the current session"
   ]
  },
  {
   "cell_type": "code",
   "execution_count": 2,
   "id": "aa2ff724",
   "metadata": {
    "execution": {
     "iopub.execute_input": "2022-07-20T16:01:36.501140Z",
     "iopub.status.busy": "2022-07-20T16:01:36.500701Z",
     "iopub.status.idle": "2022-07-20T16:01:47.072570Z",
     "shell.execute_reply": "2022-07-20T16:01:47.071456Z"
    },
    "papermill": {
     "duration": 10.582996,
     "end_time": "2022-07-20T16:01:47.075258",
     "exception": false,
     "start_time": "2022-07-20T16:01:36.492262",
     "status": "completed"
    },
    "tags": []
   },
   "outputs": [],
   "source": [
    "import csv\n",
    "import random\n",
    "import numpy as np\n",
    "import tensorflow as tf\n",
    "from tensorflow.keras.preprocessing.text import Tokenizer\n",
    "from tensorflow.keras.preprocessing.sequence import pad_sequences\n",
    "import matplotlib.pyplot as plt\n",
    "from scipy.stats import linregress"
   ]
  },
  {
   "cell_type": "code",
   "execution_count": 3,
   "id": "f7522259",
   "metadata": {
    "execution": {
     "iopub.execute_input": "2022-07-20T16:01:47.091487Z",
     "iopub.status.busy": "2022-07-20T16:01:47.090849Z",
     "iopub.status.idle": "2022-07-20T16:01:47.108015Z",
     "shell.execute_reply": "2022-07-20T16:01:47.106629Z"
    },
    "papermill": {
     "duration": 0.02814,
     "end_time": "2022-07-20T16:01:47.110492",
     "exception": false,
     "start_time": "2022-07-20T16:01:47.082352",
     "status": "completed"
    },
    "tags": []
   },
   "outputs": [
    {
     "name": "stdout",
     "output_type": "stream",
     "text": [
      "First data point looks like this:\n",
      "\n",
      "\"2\",\"Stuning even for the non-gamer\",\"This sound track was beautiful! It paints the senery in your mind so well I would recomend it even to people who hate vid. game music! I have played the game Chrono Cross but out of all of the games I have ever played it has the best music! It backs away from crude keyboarding and takes a fresher step with grate guitars and soulful orchestras. It would impress anyone who cares to listen! ^_^\"\n",
      "\n",
      "Second data point looks like this:\n",
      "\n",
      "\"2\",\"The best soundtrack ever to anything.\",\"I'm reading a lot of reviews saying that this is the best 'game soundtrack' and I figured that I'd write a review to disagree a bit. This in my opinino is Yasunori Mitsuda's ultimate masterpiece. The music is timeless and I'm been listening to it for years now and its beauty simply refuses to fade.The price tag on this is pretty staggering I must say, but if you are going to buy any cd for this much money, this is the only one that I feel would be worth every penny.\"\n",
      "\n"
     ]
    }
   ],
   "source": [
    "amazon_csv = \"/kaggle/input/amazon-reviews/train.csv\"\n",
    "\n",
    "with open(amazon_csv, 'r') as csvfile:\n",
    "    print(f\"First data point looks like this:\\n\\n{csvfile.readline()}\")\n",
    "    print(f\"Second data point looks like this:\\n\\n{csvfile.readline()}\")"
   ]
  },
  {
   "cell_type": "code",
   "execution_count": 4,
   "id": "2e766448",
   "metadata": {
    "execution": {
     "iopub.execute_input": "2022-07-20T16:01:47.127150Z",
     "iopub.status.busy": "2022-07-20T16:01:47.126016Z",
     "iopub.status.idle": "2022-07-20T16:01:47.132492Z",
     "shell.execute_reply": "2022-07-20T16:01:47.131744Z"
    },
    "papermill": {
     "duration": 0.01674,
     "end_time": "2022-07-20T16:01:47.134557",
     "exception": false,
     "start_time": "2022-07-20T16:01:47.117817",
     "status": "completed"
    },
    "tags": []
   },
   "outputs": [],
   "source": [
    "def parsing_data(filename):\n",
    "    \n",
    "    sentences = []\n",
    "    labels = []\n",
    "    \n",
    "    with open(filename, 'r') as file:\n",
    "        reader = csv.reader(file, delimiter=',')\n",
    "        for row in reader:\n",
    "            labels.append(0 if row[0] == 1 else 1)\n",
    "            sentences.append(row[1])\n",
    "        \n",
    "    return sentences, labels"
   ]
  },
  {
   "cell_type": "code",
   "execution_count": 5,
   "id": "da44c4a9",
   "metadata": {
    "execution": {
     "iopub.execute_input": "2022-07-20T16:01:47.150759Z",
     "iopub.status.busy": "2022-07-20T16:01:47.149788Z",
     "iopub.status.idle": "2022-07-20T16:02:42.632890Z",
     "shell.execute_reply": "2022-07-20T16:02:42.631085Z"
    },
    "papermill": {
     "duration": 55.500585,
     "end_time": "2022-07-20T16:02:42.642107",
     "exception": false,
     "start_time": "2022-07-20T16:01:47.141522",
     "status": "completed"
    },
    "tags": []
   },
   "outputs": [
    {
     "name": "stdout",
     "output_type": "stream",
     "text": [
      "examples: 3600000\n",
      "\n"
     ]
    }
   ],
   "source": [
    "sentences, labels = parsing_data(amazon_csv)\n",
    "\n",
    "print(f\"examples: {len(sentences)}\\n\")"
   ]
  },
  {
   "cell_type": "code",
   "execution_count": 6,
   "id": "5b31114e",
   "metadata": {
    "execution": {
     "iopub.execute_input": "2022-07-20T16:02:42.658666Z",
     "iopub.status.busy": "2022-07-20T16:02:42.658285Z",
     "iopub.status.idle": "2022-07-20T16:02:42.663561Z",
     "shell.execute_reply": "2022-07-20T16:02:42.662466Z"
    },
    "papermill": {
     "duration": 0.016362,
     "end_time": "2022-07-20T16:02:42.665979",
     "exception": false,
     "start_time": "2022-07-20T16:02:42.649617",
     "status": "completed"
    },
    "tags": []
   },
   "outputs": [],
   "source": [
    "embedding_dim= 100\n",
    "maxlen = 20\n",
    "truncating = 'post'\n",
    "padding = 'post'\n",
    "oov_token = \"<OOV>\"\n",
    "max_examples = 20000\n",
    "training_split = 0.9"
   ]
  },
  {
   "cell_type": "code",
   "execution_count": 7,
   "id": "3b21b05a",
   "metadata": {
    "execution": {
     "iopub.execute_input": "2022-07-20T16:02:42.681667Z",
     "iopub.status.busy": "2022-07-20T16:02:42.681287Z",
     "iopub.status.idle": "2022-07-20T16:02:43.581300Z",
     "shell.execute_reply": "2022-07-20T16:02:43.579982Z"
    },
    "papermill": {
     "duration": 0.912135,
     "end_time": "2022-07-20T16:02:43.585154",
     "exception": false,
     "start_time": "2022-07-20T16:02:42.673019",
     "status": "completed"
    },
    "tags": []
   },
   "outputs": [
    {
     "name": "stdout",
     "output_type": "stream",
     "text": [
      "sentences = 20000 labels = 20000\n",
      "\n"
     ]
    }
   ],
   "source": [
    "sentences_and_labels = list(zip(sentences, labels))\n",
    "random.seed(42)\n",
    "sentences_and_labels = random.sample(sentences_and_labels, max_examples)\n",
    "sentences, labels = zip(*sentences_and_labels)\n",
    "\n",
    "print(f\"sentences = {len(sentences)} labels = {len(labels)}\\n\")"
   ]
  },
  {
   "cell_type": "code",
   "execution_count": 8,
   "id": "4512643e",
   "metadata": {
    "execution": {
     "iopub.execute_input": "2022-07-20T16:02:43.602326Z",
     "iopub.status.busy": "2022-07-20T16:02:43.601893Z",
     "iopub.status.idle": "2022-07-20T16:02:43.608110Z",
     "shell.execute_reply": "2022-07-20T16:02:43.606870Z"
    },
    "papermill": {
     "duration": 0.017347,
     "end_time": "2022-07-20T16:02:43.610410",
     "exception": false,
     "start_time": "2022-07-20T16:02:43.593063",
     "status": "completed"
    },
    "tags": []
   },
   "outputs": [],
   "source": [
    "def train_val_split(sentences, labels, training_split):\n",
    "    train_size = int(len(sentences)*training_split)\n",
    "    train_sentences = sentences[:train_size]\n",
    "    train_labels = labels[:train_size]\n",
    "\n",
    "    validation_sentences = sentences[train_size:]\n",
    "    validation_labels = labels[train_size:]\n",
    "    \n",
    "    return train_sentences, validation_sentences, train_labels, validation_labels"
   ]
  },
  {
   "cell_type": "code",
   "execution_count": 9,
   "id": "8aa9bd8f",
   "metadata": {
    "execution": {
     "iopub.execute_input": "2022-07-20T16:02:43.627426Z",
     "iopub.status.busy": "2022-07-20T16:02:43.626233Z",
     "iopub.status.idle": "2022-07-20T16:02:43.635204Z",
     "shell.execute_reply": "2022-07-20T16:02:43.633915Z"
    },
    "papermill": {
     "duration": 0.020254,
     "end_time": "2022-07-20T16:02:43.637867",
     "exception": false,
     "start_time": "2022-07-20T16:02:43.617613",
     "status": "completed"
    },
    "tags": []
   },
   "outputs": [
    {
     "name": "stdout",
     "output_type": "stream",
     "text": [
      "sentences for training 18000\n",
      "\n",
      "labels for training18000\n",
      "\n",
      "sentences for validation2000\n",
      "\n",
      "labels for validation 2000\n"
     ]
    }
   ],
   "source": [
    "train_sentences, val_sentences, train_labels, val_labels = train_val_split(sentences, labels, training_split)\n",
    "\n",
    "print(f\"sentences for training {len(train_sentences)}\\n\")\n",
    "print(f\"labels for training{len(train_labels)}\\n\")\n",
    "print(f\"sentences for validation{len(val_sentences)}\\n\")\n",
    "print(f\"labels for validation {len(val_labels)}\")"
   ]
  },
  {
   "cell_type": "code",
   "execution_count": 10,
   "id": "135ff0bb",
   "metadata": {
    "execution": {
     "iopub.execute_input": "2022-07-20T16:02:43.654160Z",
     "iopub.status.busy": "2022-07-20T16:02:43.653775Z",
     "iopub.status.idle": "2022-07-20T16:02:43.659177Z",
     "shell.execute_reply": "2022-07-20T16:02:43.658104Z"
    },
    "papermill": {
     "duration": 0.016256,
     "end_time": "2022-07-20T16:02:43.661530",
     "exception": false,
     "start_time": "2022-07-20T16:02:43.645274",
     "status": "completed"
    },
    "tags": []
   },
   "outputs": [],
   "source": [
    "def fit_tokenizer(train_sentences, oov_token):\n",
    "    tokenizer = Tokenizer(oov_token=oov_token)\n",
    "    tokenizer.fit_on_texts(train_sentences)\n",
    "    \n",
    "    return tokenizer"
   ]
  },
  {
   "cell_type": "code",
   "execution_count": 11,
   "id": "8f92b745",
   "metadata": {
    "execution": {
     "iopub.execute_input": "2022-07-20T16:02:43.678849Z",
     "iopub.status.busy": "2022-07-20T16:02:43.677913Z",
     "iopub.status.idle": "2022-07-20T16:02:43.929325Z",
     "shell.execute_reply": "2022-07-20T16:02:43.928202Z"
    },
    "papermill": {
     "duration": 0.263035,
     "end_time": "2022-07-20T16:02:43.932055",
     "exception": false,
     "start_time": "2022-07-20T16:02:43.669020",
     "status": "completed"
    },
    "tags": []
   },
   "outputs": [
    {
     "name": "stdout",
     "output_type": "stream",
     "text": [
      "Vocab size:11419 \n",
      "\n",
      "<OOV> token included in vocabulary\n",
      "\n",
      "index of word 'i' should be 15\n"
     ]
    }
   ],
   "source": [
    "tokenizer = fit_tokenizer(train_sentences, oov_token)\n",
    "\n",
    "word_index = tokenizer.word_index\n",
    "vocab_size = len(word_index)\n",
    "\n",
    "print(f\"Vocab size:{vocab_size} \\n\")\n",
    "print(\"<OOV> token included in vocabulary\" if \"<OOV>\" in word_index else \"<OOV> token NOT included in vocabulary\")\n",
    "print(f\"\\nindex of word 'i' should be {word_index['i']}\")"
   ]
  },
  {
   "cell_type": "code",
   "execution_count": 12,
   "id": "beeabeab",
   "metadata": {
    "execution": {
     "iopub.execute_input": "2022-07-20T16:02:43.949843Z",
     "iopub.status.busy": "2022-07-20T16:02:43.949064Z",
     "iopub.status.idle": "2022-07-20T16:02:43.956017Z",
     "shell.execute_reply": "2022-07-20T16:02:43.955084Z"
    },
    "papermill": {
     "duration": 0.01863,
     "end_time": "2022-07-20T16:02:43.958339",
     "exception": false,
     "start_time": "2022-07-20T16:02:43.939709",
     "status": "completed"
    },
    "tags": []
   },
   "outputs": [],
   "source": [
    "def sequence_padding(sentences, tokenizer, padding, truncating, maxlen):      \n",
    "    sequences = tokenizer.texts_to_sequences(sentences)  \n",
    "    pad_trunc_sequences = pad_sequences(sequences, maxlen=maxlen, padding=padding, truncating=truncating)  \n",
    "    return pad_trunc_sequences"
   ]
  },
  {
   "cell_type": "code",
   "execution_count": 13,
   "id": "01259c12",
   "metadata": {
    "execution": {
     "iopub.execute_input": "2022-07-20T16:02:43.975110Z",
     "iopub.status.busy": "2022-07-20T16:02:43.974656Z",
     "iopub.status.idle": "2022-07-20T16:02:44.274539Z",
     "shell.execute_reply": "2022-07-20T16:02:44.272944Z"
    },
    "papermill": {
     "duration": 0.311447,
     "end_time": "2022-07-20T16:02:44.277394",
     "exception": false,
     "start_time": "2022-07-20T16:02:43.965947",
     "status": "completed"
    },
    "tags": []
   },
   "outputs": [
    {
     "name": "stdout",
     "output_type": "stream",
     "text": [
      "Padded and truncated training sequences have shape: (18000, 20)\n",
      "\n",
      "Padded and truncated validation sequences have shape: (2000, 20)\n"
     ]
    }
   ],
   "source": [
    "train_pad_trunc_seq = sequence_padding(train_sentences, tokenizer, padding, truncating, maxlen)\n",
    "val_pad_trunc_seq = sequence_padding(val_sentences, tokenizer, padding, truncating, maxlen)\n",
    "\n",
    "print(f\"Padded and truncated training sequences have shape: {train_pad_trunc_seq.shape}\\n\")\n",
    "print(f\"Padded and truncated validation sequences have shape: {val_pad_trunc_seq.shape}\")"
   ]
  },
  {
   "cell_type": "code",
   "execution_count": 14,
   "id": "690c4eda",
   "metadata": {
    "execution": {
     "iopub.execute_input": "2022-07-20T16:02:44.294526Z",
     "iopub.status.busy": "2022-07-20T16:02:44.294112Z",
     "iopub.status.idle": "2022-07-20T16:02:44.302502Z",
     "shell.execute_reply": "2022-07-20T16:02:44.301298Z"
    },
    "papermill": {
     "duration": 0.020161,
     "end_time": "2022-07-20T16:02:44.304974",
     "exception": false,
     "start_time": "2022-07-20T16:02:44.284813",
     "status": "completed"
    },
    "tags": []
   },
   "outputs": [],
   "source": [
    "train_labels = np.array(train_labels)\n",
    "val_labels = np.array(val_labels)"
   ]
  },
  {
   "cell_type": "code",
   "execution_count": 15,
   "id": "4159f237",
   "metadata": {
    "execution": {
     "iopub.execute_input": "2022-07-20T16:02:44.321898Z",
     "iopub.status.busy": "2022-07-20T16:02:44.321490Z",
     "iopub.status.idle": "2022-07-20T16:03:01.053534Z",
     "shell.execute_reply": "2022-07-20T16:03:01.051604Z"
    },
    "papermill": {
     "duration": 16.74634,
     "end_time": "2022-07-20T16:03:01.058774",
     "exception": false,
     "start_time": "2022-07-20T16:02:44.312434",
     "status": "completed"
    },
    "tags": []
   },
   "outputs": [],
   "source": [
    "GLOVE_FILE = '../input/glove6b100dtxt/glove.6B.100d.txt'\n",
    "my_dict = {}\n",
    "with open(GLOVE_FILE) as f:\n",
    "    for line in f:\n",
    "        values = line.split()\n",
    "        word = values[0]\n",
    "        coefs = np.asarray(values[1:], dtype='float32')\n",
    "        my_dict[word] = coefs"
   ]
  },
  {
   "cell_type": "code",
   "execution_count": 16,
   "id": "87e417a7",
   "metadata": {
    "execution": {
     "iopub.execute_input": "2022-07-20T16:03:01.078287Z",
     "iopub.status.busy": "2022-07-20T16:03:01.077819Z",
     "iopub.status.idle": "2022-07-20T16:03:01.087475Z",
     "shell.execute_reply": "2022-07-20T16:03:01.086386Z"
    },
    "papermill": {
     "duration": 0.021549,
     "end_time": "2022-07-20T16:03:01.089970",
     "exception": false,
     "start_time": "2022-07-20T16:03:01.068421",
     "status": "completed"
    },
    "tags": []
   },
   "outputs": [
    {
     "name": "stdout",
     "output_type": "stream",
     "text": [
      "Vector representation of word ocean looks like this:\n",
      "\n",
      "[-5.5488e-01  3.4765e-01  1.1316e+00  1.3350e-01  4.8035e-01 -4.8530e-01\n",
      "  2.6267e-01  5.6823e-01 -8.0506e-01 -9.4061e-02  2.1174e-01  2.3551e-01\n",
      "  2.1247e-01 -4.6676e-01  4.8786e-01 -7.6312e-01 -8.9015e-04 -2.5848e-01\n",
      " -1.7698e-02 -6.5572e-02  3.9691e-01  4.3218e-01  9.8119e-01 -3.4214e-01\n",
      "  1.7280e-01  1.0148e+00 -7.8283e-01  1.9244e-02  2.7627e-01 -6.0768e-01\n",
      " -1.4342e-01 -2.6839e-02 -2.1693e-01  2.9670e-01  2.4015e-01 -3.0766e-01\n",
      "  2.3081e-01  4.8479e-02  4.3400e-01 -2.2981e-01 -1.1784e+00 -7.5073e-01\n",
      " -7.1644e-01 -9.0112e-02  9.8725e-01  1.1166e+00  1.8161e-01 -2.8353e-02\n",
      "  3.3476e-02  5.3840e-01  1.8152e-02  4.5513e-01  2.6864e-01  5.5065e-01\n",
      " -4.5642e-02 -2.1594e+00  1.2931e-01 -5.4414e-01  1.7955e+00  5.6752e-01\n",
      " -5.9456e-01  1.0636e+00  6.8371e-02 -3.1427e-01  4.6764e-01  7.3519e-01\n",
      " -4.5162e-01 -4.1449e-01  8.4739e-01 -5.8426e-01  9.4224e-02  6.3878e-03\n",
      "  1.0289e+00 -2.6392e-01 -3.7318e-01 -7.6389e-02  4.8541e-01  7.6963e-02\n",
      " -1.6824e-01  6.9044e-01  4.5840e-02  1.2273e-01 -1.4057e-01  8.5321e-01\n",
      "  4.3539e-01 -2.3879e-01  2.9292e-01 -5.2169e-01  2.4144e-01 -1.8184e-01\n",
      "  4.2377e-01  5.0874e-02  2.4052e-02 -2.7480e-01  2.5500e-01  9.7766e-01\n",
      " -1.0961e+00 -3.1903e-01  3.4048e-01 -6.6672e-02]\n"
     ]
    }
   ],
   "source": [
    "test_word = 'ocean'\n",
    "test_vector = my_dict[test_word]\n",
    "\n",
    "print(f\"Vector representation of word {test_word} looks like this:\\n\\n{test_vector}\")"
   ]
  },
  {
   "cell_type": "code",
   "execution_count": 17,
   "id": "30feb7a7",
   "metadata": {
    "execution": {
     "iopub.execute_input": "2022-07-20T16:03:01.107078Z",
     "iopub.status.busy": "2022-07-20T16:03:01.106669Z",
     "iopub.status.idle": "2022-07-20T16:03:01.112340Z",
     "shell.execute_reply": "2022-07-20T16:03:01.111497Z"
    },
    "papermill": {
     "duration": 0.016913,
     "end_time": "2022-07-20T16:03:01.114504",
     "exception": false,
     "start_time": "2022-07-20T16:03:01.097591",
     "status": "completed"
    },
    "tags": []
   },
   "outputs": [
    {
     "name": "stdout",
     "output_type": "stream",
     "text": [
      "Each word vector has shape: (100,)\n"
     ]
    }
   ],
   "source": [
    "print(f\"Each word vector has shape: {test_vector.shape}\")"
   ]
  },
  {
   "cell_type": "code",
   "execution_count": 18,
   "id": "895e93d8",
   "metadata": {
    "execution": {
     "iopub.execute_input": "2022-07-20T16:03:01.131500Z",
     "iopub.status.busy": "2022-07-20T16:03:01.131113Z",
     "iopub.status.idle": "2022-07-20T16:03:01.192138Z",
     "shell.execute_reply": "2022-07-20T16:03:01.191010Z"
    },
    "papermill": {
     "duration": 0.072771,
     "end_time": "2022-07-20T16:03:01.194889",
     "exception": false,
     "start_time": "2022-07-20T16:03:01.122118",
     "status": "completed"
    },
    "tags": []
   },
   "outputs": [],
   "source": [
    "embeddings_matrix = np.zeros((vocab_size+1, embedding_dim))\n",
    "for word, i in word_index.items():\n",
    "    embedding_vector = my_dict.get(word)\n",
    "    if embedding_vector is not None:\n",
    "        embeddings_matrix[i] = embedding_vector"
   ]
  },
  {
   "cell_type": "code",
   "execution_count": 19,
   "id": "c92c0a32",
   "metadata": {
    "execution": {
     "iopub.execute_input": "2022-07-20T16:03:01.212423Z",
     "iopub.status.busy": "2022-07-20T16:03:01.211998Z",
     "iopub.status.idle": "2022-07-20T16:03:01.221392Z",
     "shell.execute_reply": "2022-07-20T16:03:01.220217Z"
    },
    "papermill": {
     "duration": 0.020789,
     "end_time": "2022-07-20T16:03:01.223630",
     "exception": false,
     "start_time": "2022-07-20T16:03:01.202841",
     "status": "completed"
    },
    "tags": []
   },
   "outputs": [],
   "source": [
    "def create_model(vocab_size, embedding_dim, maxlen, embeddings_matrix):\n",
    "    lstm1_dim = 64\n",
    "    lstm2_dim = 32\n",
    "    \n",
    "    model = tf.keras.Sequential([ \n",
    "        tf.keras.layers.Embedding(vocab_size+1, embedding_dim, input_length=maxlen, weights=[embeddings_matrix], trainable=False),\n",
    "        tf.keras.layers.Bidirectional(tf.keras.layers.LSTM(lstm1_dim, return_sequences=True)),\n",
    "        tf.keras.layers.Bidirectional(tf.keras.layers.LSTM(lstm2_dim)),\n",
    "        #tf.keras.layers.Dropout(0.2),\n",
    "        #tf.keras.layers.Conv1D(32, 5, activation='relu'),\n",
    "        #tf.keras.layers.GlobalMaxPooling1D(),\n",
    "        tf.keras.layers.Dense(32, activation='relu'),\n",
    "        tf.keras.layers.Dense(1, activation='sigmoid')  \n",
    "    ])\n",
    "    \n",
    "    model.compile(loss='binary_crossentropy',\n",
    "                  optimizer='adam',\n",
    "                  metrics=['accuracy']) \n",
    "\n",
    "    return model"
   ]
  },
  {
   "cell_type": "code",
   "execution_count": 20,
   "id": "5d023bc2",
   "metadata": {
    "execution": {
     "iopub.execute_input": "2022-07-20T16:03:01.241040Z",
     "iopub.status.busy": "2022-07-20T16:03:01.240631Z",
     "iopub.status.idle": "2022-07-20T16:11:38.369192Z",
     "shell.execute_reply": "2022-07-20T16:11:38.368093Z"
    },
    "papermill": {
     "duration": 517.140412,
     "end_time": "2022-07-20T16:11:38.371795",
     "exception": false,
     "start_time": "2022-07-20T16:03:01.231383",
     "status": "completed"
    },
    "tags": []
   },
   "outputs": [
    {
     "name": "stderr",
     "output_type": "stream",
     "text": [
      "2022-07-20 16:03:01.323916: I tensorflow/core/common_runtime/process_util.cc:146] Creating new thread pool with default inter op setting: 2. Tune using inter_op_parallelism_threads for best performance.\n",
      "2022-07-20 16:03:02.582984: I tensorflow/compiler/mlir/mlir_graph_optimization_pass.cc:185] None of the MLIR Optimization Passes are enabled (registered 2)\n"
     ]
    },
    {
     "name": "stdout",
     "output_type": "stream",
     "text": [
      "Epoch 1/20\n",
      "563/563 [==============================] - 35s 49ms/step - loss: 0.0105 - accuracy: 0.9982 - val_loss: 1.0615e-05 - val_accuracy: 1.0000\n",
      "Epoch 2/20\n",
      "563/563 [==============================] - 25s 44ms/step - loss: 6.1280e-06 - accuracy: 1.0000 - val_loss: 3.3854e-06 - val_accuracy: 1.0000\n",
      "Epoch 3/20\n",
      "563/563 [==============================] - 26s 46ms/step - loss: 2.3689e-06 - accuracy: 1.0000 - val_loss: 1.5927e-06 - val_accuracy: 1.0000\n",
      "Epoch 4/20\n",
      "563/563 [==============================] - 25s 44ms/step - loss: 1.2134e-06 - accuracy: 1.0000 - val_loss: 8.8753e-07 - val_accuracy: 1.0000\n",
      "Epoch 5/20\n",
      "563/563 [==============================] - 26s 46ms/step - loss: 7.0774e-07 - accuracy: 1.0000 - val_loss: 5.4145e-07 - val_accuracy: 1.0000\n",
      "Epoch 6/20\n",
      "563/563 [==============================] - 26s 46ms/step - loss: 4.4324e-07 - accuracy: 1.0000 - val_loss: 3.4821e-07 - val_accuracy: 1.0000\n",
      "Epoch 7/20\n",
      "563/563 [==============================] - 25s 44ms/step - loss: 2.9020e-07 - accuracy: 1.0000 - val_loss: 2.3177e-07 - val_accuracy: 1.0000\n",
      "Epoch 8/20\n",
      "563/563 [==============================] - 26s 46ms/step - loss: 1.9568e-07 - accuracy: 1.0000 - val_loss: 1.5790e-07 - val_accuracy: 1.0000\n",
      "Epoch 9/20\n",
      "563/563 [==============================] - 25s 45ms/step - loss: 1.3514e-07 - accuracy: 1.0000 - val_loss: 1.1026e-07 - val_accuracy: 1.0000\n",
      "Epoch 10/20\n",
      "563/563 [==============================] - 25s 45ms/step - loss: 9.3822e-08 - accuracy: 1.0000 - val_loss: 7.8189e-08 - val_accuracy: 1.0000\n",
      "Epoch 11/20\n",
      "563/563 [==============================] - 26s 46ms/step - loss: 6.8481e-08 - accuracy: 1.0000 - val_loss: 5.6849e-08 - val_accuracy: 1.0000\n",
      "Epoch 12/20\n",
      "563/563 [==============================] - 26s 47ms/step - loss: 4.7618e-08 - accuracy: 1.0000 - val_loss: 3.7117e-08 - val_accuracy: 1.0000\n",
      "Epoch 13/20\n",
      "563/563 [==============================] - 25s 44ms/step - loss: 3.1378e-08 - accuracy: 1.0000 - val_loss: 2.7470e-08 - val_accuracy: 1.0000\n",
      "Epoch 14/20\n",
      "563/563 [==============================] - 26s 46ms/step - loss: 2.6583e-08 - accuracy: 1.0000 - val_loss: 2.5162e-08 - val_accuracy: 1.0000\n",
      "Epoch 15/20\n",
      "563/563 [==============================] - 25s 44ms/step - loss: 2.4925e-08 - accuracy: 1.0000 - val_loss: 2.3925e-08 - val_accuracy: 1.0000\n",
      "Epoch 16/20\n",
      "563/563 [==============================] - 25s 45ms/step - loss: 2.3813e-08 - accuracy: 1.0000 - val_loss: 2.2945e-08 - val_accuracy: 1.0000\n",
      "Epoch 17/20\n",
      "563/563 [==============================] - 25s 45ms/step - loss: 2.3036e-08 - accuracy: 1.0000 - val_loss: 2.2369e-08 - val_accuracy: 1.0000\n",
      "Epoch 18/20\n",
      "563/563 [==============================] - 24s 43ms/step - loss: 2.2360e-08 - accuracy: 1.0000 - val_loss: 2.1746e-08 - val_accuracy: 1.0000\n",
      "Epoch 19/20\n",
      "563/563 [==============================] - 25s 44ms/step - loss: 2.1714e-08 - accuracy: 1.0000 - val_loss: 2.1130e-08 - val_accuracy: 1.0000\n",
      "Epoch 20/20\n",
      "563/563 [==============================] - 25s 44ms/step - loss: 2.1053e-08 - accuracy: 1.0000 - val_loss: 2.0520e-08 - val_accuracy: 1.0000\n"
     ]
    }
   ],
   "source": [
    "model = create_model(vocab_size, embedding_dim, maxlen, embeddings_matrix)\n",
    "\n",
    "history = model.fit(train_pad_trunc_seq, train_labels, epochs=20, validation_data=(val_pad_trunc_seq, val_labels))"
   ]
  },
  {
   "cell_type": "code",
   "execution_count": 21,
   "id": "d0a81604",
   "metadata": {
    "execution": {
     "iopub.execute_input": "2022-07-20T16:11:39.295610Z",
     "iopub.status.busy": "2022-07-20T16:11:39.294893Z",
     "iopub.status.idle": "2022-07-20T16:11:39.561517Z",
     "shell.execute_reply": "2022-07-20T16:11:39.560428Z"
    },
    "papermill": {
     "duration": 0.680405,
     "end_time": "2022-07-20T16:11:39.564159",
     "exception": false,
     "start_time": "2022-07-20T16:11:38.883754",
     "status": "completed"
    },
    "tags": []
   },
   "outputs": [
    {
     "data": {
      "image/png": "[encoded data removed]",
      "text/plain": [
       "<Figure size 432x288 with 1 Axes>"
      ]
     },
     "metadata": {
      "needs_background": "light"
     },
     "output_type": "display_data"
    }
   ],
   "source": [
    "loss = history.history['loss']\n",
    "val_loss = history.history['val_loss']\n",
    "epochs = [*range(20)]\n",
    "plt.plot(epochs, loss, 'r')\n",
    "plt.plot(epochs, val_loss, 'b')\n",
    "plt.title('Training and validation loss')\n",
    "plt.xlabel(\"Epochs\")\n",
    "plt.ylabel(\"Loss\")\n",
    "plt.legend([\"Loss\", \"Validation Loss\"])\n",
    "plt.show()"
   ]
  },
  {
   "cell_type": "code",
   "execution_count": 22,
   "id": "08664c45",
   "metadata": {
    "execution": {
     "iopub.execute_input": "2022-07-20T16:11:40.391648Z",
     "iopub.status.busy": "2022-07-20T16:11:40.390880Z",
     "iopub.status.idle": "2022-07-20T16:11:40.583372Z",
     "shell.execute_reply": "2022-07-20T16:11:40.582419Z"
    },
    "papermill": {
     "duration": 0.60985,
     "end_time": "2022-07-20T16:11:40.585782",
     "exception": false,
     "start_time": "2022-07-20T16:11:39.975932",
     "status": "completed"
    },
    "tags": []
   },
   "outputs": [
    {
     "data": {
      "image/png": "[encoded data removed]",
      "text/plain": [
       "<Figure size 432x288 with 1 Axes>"
      ]
     },
     "metadata": {
      "needs_background": "light"
     },
     "output_type": "display_data"
    }
   ],
   "source": [
    "acc = history.history['accuracy']\n",
    "val_acc = history.history['val_accuracy']\n",
    "plt.plot(epochs, acc, 'r')\n",
    "plt.plot(epochs, val_acc, 'b')\n",
    "plt.title('Training and validation accuracy')\n",
    "plt.xlabel(\"Epochs\")\n",
    "plt.ylabel(\"Accuracy\")\n",
    "plt.legend([\"Accuracy\", \"Validation Accuracy\"])\n",
    "plt.show()"
   ]
  },
  {
   "cell_type": "code",
   "execution_count": null,
   "id": "b4c8720f",
   "metadata": {
    "papermill": {
     "duration": 0.413254,
     "end_time": "2022-07-20T16:11:41.497133",
     "exception": false,
     "start_time": "2022-07-20T16:11:41.083879",
     "status": "completed"
    },
    "tags": []
   },
   "outputs": [],
   "source": []
  }
 ],
 "metadata": {
  "kernelspec": {
   "display_name": "Python 3",
   "language": "python",
   "name": "python3"
  },
  "language_info": {
   "codemirror_mode": {
    "name": "ipython",
    "version": 3
   },
   "file_extension": ".py",
   "mimetype": "text/x-python",
   "name": "python",
   "nbconvert_exporter": "python",
   "pygments_lexer": "ipython3",
   "version": "3.7.12"
  },
  "papermill": {
   "default_parameters": {},
   "duration": 618.093089,
   "end_time": "2022-07-20T16:11:44.549578",
   "environment_variables": {},
   "exception": null,
   "input_path": "__notebook__.ipynb",
   "output_path": "__notebook__.ipynb",
   "parameters": {},
   "start_time": "2022-07-20T16:01:26.456489",
   "version": "2.3.4"
  }
 },
 "nbformat": 4,
 "nbformat_minor": 5
}
